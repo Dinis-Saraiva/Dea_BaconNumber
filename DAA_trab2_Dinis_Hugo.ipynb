{
 "cells": [
  {
   "cell_type": "markdown",
   "metadata": {
    "id": "Nk5-ZWkw8CA9"
   },
   "source": [
    "# Minitrabalho 2 – \"Seis graus de separação\""
   ]
  },
  {
   "cell_type": "markdown",
   "metadata": {
    "id": "J5xZXVFixJT_"
   },
   "source": [
    "##1) Representação dos dados\n"
   ]
  },
  {
   "cell_type": "markdown",
   "metadata": {
    "id": "Rf_Bj1D3fEtN"
   },
   "source": [
    "### 1.a) Descrição do modelo de grafo utilizado para concetualizar a relação ator-filme\n",
    "\n",
    "Ao enfrentarmos o problema proposto, percebemos imediatamente que os atores estão conectados por filmes que fizeram em comum, por essa razão, decidimos que os atores no nosso grafo irão ser representados por vértices e os filmes por arestas.\n",
    "Assim sendo, acabámos por obtar pela de estrutura de dados de Grafo, sendo este não orientado, sem multiarestas, cíclico e bastante esparso.\n",
    "\n",
    "Como a nossa base de dados é bastante extensa tomámos a decisão de representar o nosso grafo com um mapa de adjâcencias. Este tipo de representação tem as vantagens de conseguir fazer rapidamente as operações necessárias para o grafo sem aumentar o custo espacial.\n",
    "\n",
    "A maior modificação que fizemos nas Classes dadas em aula (semana 7) foi a adição de um método get_neighbors() na classe Graph que retorna todos os vizinhos de um certo vértice.\n",
    "\n"
   ]
  },
  {
   "cell_type": "markdown",
   "metadata": {
    "id": "W51Y0x9V201g"
   },
   "source": [
    "### Implementação da classe Vértice"
   ]
  },
  {
   "cell_type": "code",
   "execution_count": null,
   "metadata": {
    "id": "CYkfAaY226Tm"
   },
   "outputs": [],
   "source": [
    "# Class Vertice\n",
    "class Vertex:\n",
    "    ''' Estrutura de Vértice para um grafo: encapsula um elemento (vertex_id)\n",
    "        que é o identificador deste nó.\n",
    "\n",
    "        O elemento (vertex_id) deve ser hashable:\n",
    "        - Um objeto hashable é aquele que pode ser utilizado como uma chave num dicionário Python.\n",
    "        - Isto inclui strings, números, tuplas, etc.\n",
    "    '''\n",
    "\n",
    "    def __init__(self, vertex_id):\n",
    "        '''O vértice será inserido no Grafo usando o método insert_vertex(x) que cria um Vertex'''\n",
    "        self._vertex_id = vertex_id   # Id do vértice (elemento a inserir no grafo)\n",
    "\n",
    "    def __hash__(self):\n",
    "        '''O valor do elemento é usado como hash para o vértice (o elemento deve ser hashable)'''\n",
    "        return hash(self._vertex_id)  # devolve o hash do elemento\n",
    "\n",
    "    def __str__(self):\n",
    "        '''Devolve a representação do objeto vértice em string.'''\n",
    "        return self._vertex_id\n",
    "\n",
    "    def __eq__(self, vertex):\n",
    "        return self._vertex_id == vertex._vertex_id # Deve-se garantir que: se hash(vertex)==hash(self), entao vertex==self\n",
    "\n",
    "    def __lt__(self, vertex):\n",
    "        return self._vertex_id < vertex._vertex_id\n",
    "\n",
    "    def __le__(self, vertex):\n",
    "        return self._vertex_id <= vertex._vertex_id\n",
    "\n",
    "    def __gt__(self, vertex):\n",
    "        return self._vertex_id > vertex._vertex_id\n",
    "\n",
    "    def __ge__(self, vertex):\n",
    "        return self._vertex_id >= vertex._vertex_id\n",
    "\n",
    "    def vertex_id(self):\n",
    "        ''' Devolve o elemento guardado neste vértice.'''\n",
    "        return self._vertex_id"
   ]
  },
  {
   "cell_type": "markdown",
   "metadata": {
    "id": "0NTH2QZs2ehe"
   },
   "source": [
    "### Implementação da classe Edge"
   ]
  },
  {
   "cell_type": "code",
   "execution_count": null,
   "metadata": {
    "id": "Nc8FfLVK2kXp"
   },
   "outputs": [],
   "source": [
    "class Edge:\n",
    "    ''' Estrutura de Aresta para um Grafo: (origem, destino) e peso '''\n",
    "\n",
    "    def __init__(self, vertex_1, vertex_2, edge_id):\n",
    "        self._vertex_1 = vertex_1\n",
    "        self._vertex_2 = vertex_2\n",
    "        self.edge_id = edge_id  # New attribute for edge ID\n",
    "\n",
    "    def __hash__(self):\n",
    "        # Function mapping the edge to a position in the dictionary (hash map)\n",
    "        return hash((self._vertex_1, self._vertex_2, self.edge_id))\n",
    "\n",
    "    def __str__(self):\n",
    "        return f\"({self._vertex_1}, {self._vertex_2}), ID: {self.edge_id}\"\n",
    "\n",
    "    def __eq__(self, other):\n",
    "        # Define equality of two edges (must be consistent with the hash function)\n",
    "        return self._vertex_1 == other._vertex_1 and self._vertex_2 == other._vertex_2 and self.edge_id == other.edge_id\n",
    "\n",
    "    def get_id(self):\n",
    "      return self.edge_id\n",
    "\n",
    "    def endpoints(self):\n",
    "        ''' Returns the tuple (vertex_1, vertex_2) of the edge's endpoints.'''\n",
    "        return (self._vertex_1, self._vertex_2)\n",
    "\n",
    "    def opposite(self, vertex):\n",
    "        ''' Indicates the opposite vertex to the given vertex on this edge\n",
    "            (only if the vertex is part of the edge).'''\n",
    "        if vertex == self._vertex_1:\n",
    "            return self._vertex_2\n",
    "        elif vertex == self._vertex_2:\n",
    "            return self._vertex_1\n",
    "        else:\n",
    "            return None"
   ]
  },
  {
   "cell_type": "markdown",
   "metadata": {
    "id": "14Sq5A7AzWTK"
   },
   "source": [
    "### Implentação da classe Graph"
   ]
  },
  {
   "cell_type": "code",
   "execution_count": null,
   "metadata": {
    "id": "cwUDv-F-zOr0"
   },
   "outputs": [],
   "source": [
    "class Graph:\n",
    "    '''\n",
    "    Representação de um grafo usando dicionários encadeados (nested dictionaries).\n",
    "\n",
    "    Atributos:\n",
    "    ----------\n",
    "    adjacencies: Dicionário externo que associa um vértice (Vertex) a um\n",
    "                  mapa de adjacências (dicionario interno)\n",
    "    vertices: Dicionário auxiliar que associa o id dos vértices do grafo\n",
    "              a um objeto Vertex (tabela de símbolos).\n",
    "    n: Número de vértices no Grafo\n",
    "    m: Número de arestas no Grafo\n",
    "\n",
    "    ----------\n",
    "    '''\n",
    "\n",
    "    def __init__(self):\n",
    "        '''Construtor: Cria um grafo vazio (dicionário de _adjacencies).'''\n",
    "        self._adjacencies = {}  # dicionário que associa o par chave-valor: <Vertex v, Mapa de adjacências de v>\n",
    "        self._vertices = {}      # dicionário que associa o par: <id do vértice, objeto Vertex correspondente>\n",
    "        self._n = 0              # número de vértices do grafo\n",
    "        self._m = 0              # número de arestas do grafo\n",
    "\n",
    "    def order(self):\n",
    "        '''Ordem de um grafo: a quantidade de vértices no Grafo.'''\n",
    "        return self._n\n",
    "\n",
    "    def size(self):\n",
    "        '''Dimensão de um grafo: a quantidade total de arestas do Grafo.'''\n",
    "        return self._m\n",
    "\n",
    "    def has_vertex(self, vertex_id):\n",
    "        '''Verifica se o vértice de id vertex_id está no grafo.'''\n",
    "        return vertex_id in self._vertices\n",
    "\n",
    "    def has_edge(self, u_id, v_id):\n",
    "        '''Verifica se a aresta (u_id, v_id) existe no grafo.'''\n",
    "        if not self.has_vertex(u_id) or not self.has_vertex(v_id):\n",
    "            return False\n",
    "        else:\n",
    "            vertex_u = self._vertices[u_id]\n",
    "            vertex_v = self._vertices[v_id]\n",
    "            return vertex_v in self._adjacencies[vertex_u]\n",
    "\n",
    "    def get_vertex(self, vertex_id):\n",
    "        ''' Devolve o objeto Vertex associado ao elemento vertex_id no grafo.'''\n",
    "        return None if not self.has_vertex(vertex_id) else self._vertices[vertex_id]\n",
    "\n",
    "    def get_edge(self, u_id, v_id):\n",
    "        ''' Devolve o objeto aresta (Edge) que liga u_id a v_id.'''\n",
    "        if not self.has_edge(u_id, v_id):\n",
    "            return None\n",
    "        vertex_u = self._vertices[u_id]\n",
    "        vertex_v = self._vertices[v_id]\n",
    "        return self._adjacencies[vertex_u][vertex_v]\n",
    "\n",
    "    def insert_vertex(self, vertex_id):\n",
    "        '''Insere um novo vértice com o id vertex_id.'''\n",
    "        if not self.has_vertex(vertex_id):\n",
    "            vertex = Vertex(vertex_id)\n",
    "            self._vertices[vertex_id] = vertex  # insere o novo vértice no dicionario de vertices\n",
    "            self._adjacencies[vertex] = {}     # inicializa o mapa de adjacências deste vértice a vazio\n",
    "            self._n += 1                         # mais um vértice no grafo\n",
    "\n",
    "    def insert_edge(self, u_id, v_id, edge_id):\n",
    "        if not self.has_vertex(u_id):\n",
    "            self.insert_vertex(u_id)  # insere novo vértice e atualiza n\n",
    "        if not self.has_vertex(v_id):\n",
    "            self.insert_vertex(v_id)  # insere novo vértice e atualiza n\n",
    "        vertex_u = self._vertices[u_id]\n",
    "        vertex_v = self._vertices[v_id]\n",
    "        if vertex_u is None or vertex_v is None:\n",
    "            raise ValueError(\"One or both of the vertices does not exist.\")\n",
    "        if not self.has_edge(u_id, v_id):\n",
    "            self._m += 1  # atualiza m apenas se a aresta ainda não existir no grafo\n",
    "            e = Edge(vertex_u, vertex_v, edge_id)\n",
    "            self._adjacencies[vertex_u][vertex_v] = e  # coloca v nas adjacências de u\n",
    "            self._adjacencies[vertex_v][vertex_u] = e  # e u nas adjacências de v\n",
    "\n",
    "    def incident_edges(self, vertex_id):\n",
    "        '''Devolve um iterável (gerador) com todas as arestas de um vértice com id vertex_id.'''\n",
    "        vertex = self.get_vertex(vertex_id)\n",
    "        for edge in self._adjacencies[vertex].values(): # para todas as arestas incidentes em v:\n",
    "            yield edge\n",
    "\n",
    "    def get_neighbors(self, vertex_id):\n",
    "        '''Returns an iterable containing all neighbors of a vertex with the given ID.'''\n",
    "        neighbors = set()  # Using a set to avoid duplicates\n",
    "        for edge in self.incident_edges(vertex_id):\n",
    "            opposite_vertex = edge.opposite(self.get_vertex(vertex_id))\n",
    "            neighbors.add(opposite_vertex)\n",
    "        return neighbors\n",
    "\n",
    "    def get_neighbors2(self, movie_id):\n",
    "      neighbors = set()  # Using a set to avoid duplicates\n",
    "      for edge in self.incident_edges(movie_id):\n",
    "        opposite_vertex = edge.opposite(movie_id)\n",
    "        neighbors.add(opposite_vertex)\n",
    "      return neighbors\n",
    "\n",
    "\n",
    "\n",
    "    def degree(self, vertex_id):\n",
    "        '''Quantidade de arestas incidentes no vértice v.'''\n",
    "        if vertex_id not in self._vertices:\n",
    "            return 0\n",
    "        return len(self._adjacencies[self._vertices[vertex_id]])\n",
    "\n",
    "\n",
    "    def vertices(self):\n",
    "        '''Devolve um iterável sobre todos os vértices do Grafo (tipo Vertex)'''\n",
    "        for vertex in self._vertices.values():\n",
    "            yield vertex\n",
    "\n",
    "    def edges(self):\n",
    "        '''Devolve um iterável sobre todas as arestas do Grafo (tipo Edge)'''\n",
    "        visited = set()  # To avoid duplicating edges\n",
    "        for adj_map in self._adjacencies.values():\n",
    "            for edge in adj_map.values():\n",
    "                if edge not in visited:\n",
    "                    yield edge\n",
    "                    visited.add(edge)"
   ]
  },
  {
   "cell_type": "markdown",
   "metadata": {
    "id": "FbMQEXeWwKXh"
   },
   "source": [
    "**1.b) Implementação de uma função auxiliar para a construção de um grafo**\n",
    "\n",
    "(implementado na classe HollywoodOracle)\n"
   ]
  },
  {
   "cell_type": "markdown",
   "metadata": {
    "id": "1q3820KkwwW2"
   },
   "source": [
    "## 2) API HollywoodOracle"
   ]
  },
  {
   "cell_type": "markdown",
   "metadata": {
    "id": "de-9uf36xSnn"
   },
   "source": [
    "**2.a) Estrutura de para a implementação da API**\n"
   ]
  },
  {
   "cell_type": "markdown",
   "metadata": {
    "id": "nJ7nkx3ePTm5"
   },
   "source": [
    "A nossa classe HollywoodOracle possui 2 estruturas de dados principais:\n",
    "\n",
    "\n",
    "*   A estrutura self.graph que é toda a informação de atores e filmes em forma de grafo representado na classe Graph em formato de mapa de adjacência. Por isso esta estrutura tem um complexidade espacial de **S(n):O(n+m)** sendo n o nº de vértices e m o nº de arestas.\n",
    "*   A estrutura self.bfs_dict é um dicionário em que a chaves são os vértices conectados ao centro do universo. Ou seja irá ter um complexidade espacial de **S(n):O(n)**\n",
    "\n"
   ]
  },
  {
   "cell_type": "markdown",
   "metadata": {
    "id": "RaY0ZuhpHXG1"
   },
   "source": [
    "**2.b) Implementação das operações listadas na API**"
   ]
  },
  {
   "cell_type": "code",
   "execution_count": null,
   "metadata": {
    "id": "g7gl_nh-4nWn"
   },
   "outputs": [],
   "source": [
    "import queue\n",
    "class HollywoodOracle:\n",
    "    def __init__(self, filename):\n",
    "        self.filename = filename\n",
    "        self.graph = Graph()\n",
    "        self.load_data()\n",
    "        self.set_center_of_universe(\"Bacon, Kevin\")\n",
    "\n",
    "    def load_data(self):\n",
    "        with open(self.filename, 'r') as file:\n",
    "            for line in file:\n",
    "                data = line.strip().split('/')\n",
    "                movie = data[0].strip()\n",
    "                for actor_data in data[1:]:\n",
    "                    self.graph.insert_vertex(actor_data)\n",
    "\n",
    "                for i in range(1,len(data)):\n",
    "                    for j in range(i + 1, len(data)):\n",
    "                        self.graph.insert_edge(data[i], data[j], movie)\n",
    "\n",
    "    def all_movies(self):\n",
    "      return self.graph.edges()\n",
    "\n",
    "    def all_actors(self):\n",
    "      return self.graph.vertices()\n",
    "\n",
    "    def movies_from(self, actor):\n",
    "      if not self.graph.has_vertex(actor):\n",
    "        return []\n",
    "\n",
    "      movies_set = set()  # Using a set to store unique movie IDs\n",
    "      for edge in self.graph.incident_edges(actor):\n",
    "        movie_id = edge.get_id()\n",
    "        movies_set.add(movie_id)\n",
    "      return movies_set\n",
    "\n",
    "    def cast_of(self, movie):\n",
    "      cast_set = set()  # Using a set to store unique actors\n",
    "      if self.graph.has_vertex(movie):\n",
    "        neighbors = self.graph.get_neighbors2(movie)\n",
    "        for neighbor in neighbors:\n",
    "            cast_set.add(neighbor.vertex_id())\n",
    "      return cast_set\n",
    "\n",
    "    def set_center_of_universe(self,x):\n",
    "      if(not self.graph.has_vertex(x)):\n",
    "        print(\"ator não existe\")\n",
    "        return None\n",
    "      aux={x:(None,0)}\n",
    "      q = queue.Queue()\n",
    "      q.put(x)\n",
    "      while (not q.empty()):\n",
    "        head=q.get()\n",
    "        for i in self.graph.get_neighbors(head):\n",
    "          h=i.vertex_id()\n",
    "          if h not in aux:\n",
    "            q.put(h)\n",
    "            aux[h]=(head,aux[head][1]+1)\n",
    "      self.bfs_dict=aux\n",
    "\n",
    "    def number_of_X(self,a):\n",
    "      if a in self.bfs_dict:\n",
    "        return self.bfs_dict[a][1]\n",
    "      else:\n",
    "        -1\n",
    "\n",
    "    def path_to_X(self,a):\n",
    "        if a not in self.bfs_dict:\n",
    "          return \"No Conexion\"\n",
    "        else:\n",
    "          sol= a\n",
    "          while(self.bfs_dict[a][1]!=0):\n",
    "            sol= sol + \" was in \" + self.graph.get_edge(a,self.bfs_dict[a][0]).get_id() + \" with \" + self.bfs_dict[a][0]\n",
    "            a=self.bfs_dict[a][0]\n",
    "          return sol\n",
    "\n",
    "    def max_number_of_X(self):\n",
    "      max_key = max(self.bfs_dict, key=lambda k: self.bfs_dict[k][1])\n",
    "      return (self.bfs_dict[max_key][1],self.graph.order()-len(self.bfs_dict))\n",
    "\n",
    "    def count_number_of_X(self,n):\n",
    "      count = sum(1 for value in self.bfs_dict.values() if value[1] == n)\n",
    "      return count\n",
    "\n",
    "    def average_number_of_X(self):\n",
    "      total_sum = sum(value[1] for value in self.bfs_dict.values())\n",
    "      num_values = len(self.bfs_dict)\n",
    "      return total_sum / num_values"
   ]
  },
  {
   "cell_type": "code",
   "execution_count": null,
   "metadata": {
    "id": "r74m10WpgCRH"
   },
   "outputs": [],
   "source": [
    "oracle=HollywoodOracle(\"small_dataset_utf8.txt\")"
   ]
  },
  {
   "cell_type": "markdown",
   "metadata": {
    "id": "zdD-DCiF6SH7"
   },
   "source": [
    "Devolve um iterável com todos os filmes na base de\n",
    "dados.\n",
    "\n",
    "O tempo que esta função demora depende do número de filmes: O(m)\n",
    "\n",
    "O espaço de memória que esta função ocupa não depende do tamanho do grafo: O(1)"
   ]
  },
  {
   "cell_type": "code",
   "execution_count": null,
   "metadata": {
    "id": "YSxVsFUh6M3i"
   },
   "outputs": [],
   "source": [
    "print(oracle.all_movies())"
   ]
  },
  {
   "cell_type": "markdown",
   "metadata": {
    "id": "IGjY9Wv26Vph"
   },
   "source": [
    "Devolve um iterável com todos os atores na base de\n",
    "dados.\n",
    "\n",
    "O tempo que esta função demora depende do número de atores: O(n)\n",
    "\n",
    "O espaço de memória que esta função ocupa não depende do tamanho do grafo: O(1)"
   ]
  },
  {
   "cell_type": "code",
   "execution_count": null,
   "metadata": {
    "id": "h2FUCaDj6U4w"
   },
   "outputs": [],
   "source": [
    "print(oracle.all_actors())"
   ]
  },
  {
   "cell_type": "markdown",
   "metadata": {
    "id": "WqhoQQVM6Y0R"
   },
   "source": [
    "Devolve um iterável que lista os filmes em que o ator\n",
    "dado (a) já atuou.\n",
    "\n",
    "O tempo que esta função demora depende do número de filmes: O(n)\n",
    "\n",
    "O espaço de memória que esta função ocupa é proporcional ao número de filmes: O(m)"
   ]
  },
  {
   "cell_type": "code",
   "execution_count": null,
   "metadata": {
    "id": "ruj8l-Qp6YrJ"
   },
   "outputs": [],
   "source": [
    "print(oracle.movies_from(\"Davis, Warwick (I)\"))"
   ]
  },
  {
   "cell_type": "markdown",
   "metadata": {
    "id": "FmE4Q0qV6Yh5"
   },
   "source": [
    "Devolve um iterável com os atores que atuaram num\n",
    "dado filme (movie).\n",
    "\n",
    "O tempo que esta função demora depende do número de atores: O(n)\n",
    "\n",
    "O espaço de memória que esta função ocupa é proporcional ao número de atores: O(n)"
   ]
  },
  {
   "cell_type": "code",
   "execution_count": null,
   "metadata": {
    "colab": {
     "base_uri": "https://localhost:8080/"
    },
    "id": "Ff8Cb6Gv6YX5",
    "outputId": "24d3e287-2890-4d3e-e1c2-54f2dce81f6f"
   },
   "outputs": [
    {
     "name": "stdout",
     "output_type": "stream",
     "text": [
      "set()\n"
     ]
    }
   ],
   "source": [
    "print(oracle.cast_of(\"Haik\"))"
   ]
  },
  {
   "cell_type": "markdown",
   "metadata": {
    "id": "2jyZfKVC6YEy"
   },
   "source": [
    "Configura o ator dado (x) como novo “centro do\n",
    "universo” e calcula novamente o “número de X” para\n",
    "cada ator existente na base de dados.\n",
    "\n",
    "Foi implementa uma busca em largura (BFS) no grafo para calcular o caminho mais curto a partir de um ator central (o centro do universo) para todos os outros atores no grafo\n",
    "\n",
    "São visitados todos os vértices acessíveis a partir do vértice inicial, sendo cada um deles visitado no máximo uma vez durante a travessia.\n",
    "No pior caso, a BFS visitará todos os n vértices e m arestas uma vez.\n",
    "Portanto, a ordem de complexidade da função set_center_of_universe(x) é, supondo que o grafo tenha n vértices  e m arestas,\n",
    "O(n + m).\n",
    "\n",
    "O espaço de memória que esta função ocupa é proporcional ao número de atores: O(n)"
   ]
  },
  {
   "cell_type": "code",
   "execution_count": null,
   "metadata": {
    "id": "xPXq8elI6XmJ"
   },
   "outputs": [],
   "source": [
    "print(oracle.set_center_of_universe(\"Bacon, Kevin\"))"
   ]
  },
  {
   "cell_type": "markdown",
   "metadata": {
    "id": "6gg02KMy6XRS"
   },
   "source": [
    "Devolve o “numero de X” do ator dado (a), considerando\n",
    "o “centro do universo” atual, X.\n",
    "\n",
    "Este método verifica diretamente o valor no dicionário bfs_dict para o ator dado. Portanto, a complexidade de tempo é O(1).\n",
    "\n",
    "A memória que esta função ocupa não depende do tamanho do grafo O(1)"
   ]
  },
  {
   "cell_type": "code",
   "execution_count": null,
   "metadata": {
    "id": "SGSF8X5K6W3Y"
   },
   "outputs": [],
   "source": [
    "print(oracle.number_of_X(\"Youngman, Henny\"))"
   ]
  },
  {
   "cell_type": "markdown",
   "metadata": {
    "id": "uvSgj8nW6mSZ"
   },
   "source": [
    "Devolve a sequência de filmes e atores que conduzem ao\n",
    "ator “centro do universo”, X\n",
    "\n",
    "A memória que esta função ocupa não depende do tamanho do grafo O(1)"
   ]
  },
  {
   "cell_type": "code",
   "execution_count": null,
   "metadata": {
    "id": "5wE7a7996mJx"
   },
   "outputs": [],
   "source": [
    "print(oracle.path_to_X(\"Emmanuelle/Marina\"))\n",
    "print(oracle.path_to_X(\"Youngman, Henny\"))"
   ]
  },
  {
   "cell_type": "markdown",
   "metadata": {
    "id": "ieRkQqAq6l1J"
   },
   "source": [
    "Devolve:\n",
    "• O \"número de X\" máximo para os atores existentes\n",
    "na base de dados, excluindo todos os atores que não\n",
    "estão relacionados com o “centro do universo” atual\n",
    "(e cujo “número de X” é infinito).\n",
    "• O número de atores que não estão relacionados com\n",
    "o “centro do universo” atual\n",
    "\n",
    "O tempo que esta função demora depende do número de atores: O(n)\n",
    "\n",
    "A memória que esta função ocupa não depende do tamanho do grafo O(1)"
   ]
  },
  {
   "cell_type": "code",
   "execution_count": null,
   "metadata": {
    "id": "hHAWkQHe6lN5"
   },
   "outputs": [],
   "source": [
    "print(oracle.max_number_of_X())"
   ]
  },
  {
   "cell_type": "markdown",
   "metadata": {
    "id": "_pMIrOtxfVT3"
   },
   "source": [
    "Devolve o número de atores/atrizes com “numero de X”\n",
    "igual ao valor inteiro dado (n).\n",
    "\n",
    "O tempo que esta função demora depende do número de atores: O(n)\n",
    "\n",
    "A memória que esta função ocupa não depende do tamanho do grafo O(1)"
   ]
  },
  {
   "cell_type": "code",
   "execution_count": null,
   "metadata": {
    "id": "rPAOg9P86tgJ"
   },
   "outputs": [],
   "source": [
    "n=4\n",
    "print(oracle.count_number_of_X(n))"
   ]
  },
  {
   "cell_type": "markdown",
   "metadata": {
    "id": "D1RsLCnA65Lg"
   },
   "source": [
    "Devolve o valor médio do “número de X” para os atores\n",
    "existentes na base de dados, excluindo todos os atores\n",
    "que não estão relacionados com o “centro do universo”\n",
    "atual (e cujo “número de X” é infinito).\n",
    "\n",
    "O tempo que esta função demora depende do número de atores: O(n)\n",
    "\n",
    "A memória que esta função ocupa depende do número de atores no grafo O(n)"
   ]
  },
  {
   "cell_type": "code",
   "execution_count": null,
   "metadata": {
    "id": "AZK4Rdzo6yMo"
   },
   "outputs": [],
   "source": [
    "print(oracle.average_number_of_X())"
   ]
  },
  {
   "cell_type": "markdown",
   "metadata": {
    "id": "-4RNPnEPzJPP"
   },
   "source": [
    "## 3) Testes"
   ]
  },
  {
   "cell_type": "markdown",
   "metadata": {
    "id": "34dKRu0-LsRD"
   },
   "source": []
  },
  {
   "cell_type": "markdown",
   "metadata": {
    "id": "ebc7mNSP8L86"
   },
   "source": [
    "**3.1)**\n"
   ]
  },
  {
   "cell_type": "code",
   "execution_count": null,
   "metadata": {
    "id": "QyjRzToXk4W4"
   },
   "outputs": [],
   "source": [
    "import matplotlib.pyplot as plt\n",
    "histograma = {}\n",
    "\n",
    "# Contando as ocorrências de cada valor e armazenando no dicionário\n",
    "for valor in oracle.bfs_dict:\n",
    "    if oracle.bfs_dict[valor][1] in histograma:\n",
    "        histograma[oracle.bfs_dict[valor][1]] += 1\n",
    "    else:\n",
    "        histograma[oracle.bfs_dict[valor][1]] = 1\n",
    "valores = list(histograma.keys())\n",
    "contagens = list(histograma.values())\n",
    "\n",
    "# Criando o gráfico de barras\n",
    "plt.bar(valores, contagens, color='green')\n",
    "\n",
    "# Adicionando rótulos e título\n",
    "plt.xlabel('Valores')\n",
    "plt.ylabel('Contagem')\n",
    "plt.title('Contagem dos Valores')\n",
    "\n",
    "plt.show()\n",
    "\n",
    "print(histograma)\n",
    "print(oracle.average_number_of_X())"
   ]
  },
  {
   "cell_type": "markdown",
   "metadata": {
    "id": "nJ8AwfsK86ir"
   },
   "source": [
    "**3.2)**"
   ]
  },
  {
   "cell_type": "code",
   "execution_count": null,
   "metadata": {
    "colab": {
     "background_save": true,
     "base_uri": "https://localhost:8080/"
    },
    "id": "tO_zo7VGii1B",
    "outputId": "b0c65f80-35da-4e02-ce66-933f41ed8a17"
   },
   "outputs": [
    {
     "name": "stdout",
     "output_type": "stream",
     "text": [
      "Depp, Johnny\n",
      "Damon, Matt\n",
      "Clooney, George\n",
      "Jolie, Angelina\n",
      "Blanchett, Cate\n",
      "Bale, Christian\n",
      "Pitt, Brad\n",
      "DiCaprio, Leonardo\n",
      "Ledger, Heath\n",
      "Portman, Natalie\n",
      "Diaz, Cameron\n",
      "Aniston, Jennifer\n",
      "Neeson, Liam\n",
      "Crowe, Russell\n",
      "Banderas, Antonio (I)\n",
      "Bullock, Sandra\n",
      "Roberts, Julia (I)\n",
      "Thurman, Uma\n",
      "Smith, Will (I)\n",
      "Hanks, Tom\n"
     ]
    },
    {
     "data": {
      "image/png": "[encoded data removed]",
      "text/plain": [
       "<Figure size 1000x600 with 1 Axes>"
      ]
     },
     "metadata": {},
     "output_type": "display_data"
    }
   ],
   "source": [
    "import csv\n",
    "\n",
    "actor_names = []\n",
    "average_number_of_X_values = []\n",
    "\n",
    "#top 20 actors from the CSV file\n",
    "with open(\"top20imbd.csv\", 'r') as file:\n",
    "    csv_reader = csv.reader(file, delimiter=\";\")\n",
    "\n",
    "    for row in csv_reader:\n",
    "        actor = row[1]\n",
    "        oracle.set_center_of_universe(actor)\n",
    "        # Calculate the average number of X\n",
    "        avg_number_of_X = oracle.average_number_of_X()\n",
    "        # Append the actor name and average number of X to the lists\n",
    "        actor_names.append(actor)\n",
    "        average_number_of_X_values.append(avg_number_of_X)\n",
    "        print(actor, \" tem um average number de \", avg_number_of_X)\n",
    "\n",
    "plt.figure(figsize=(10, 6))\n",
    "plt.bar(actor_names, average_number_of_X_values, color='green')\n",
    "plt.xlabel('Actors')\n",
    "plt.ylabel('Average Number of X')\n",
    "plt.title('Average Number of X for Top 20 Hollywood Actors')\n",
    "plt.xticks(rotation=90)  # Rotate x-axis labels for better readability\n",
    "plt.tight_layout()  # Adjust layout to prevent overlapping labels\n",
    "plt.show()\n",
    "\n"
   ]
  },
  {
   "cell_type": "markdown",
   "metadata": {
    "id": "HexsnarG9AXM"
   },
   "source": [
    "**3.3)**"
   ]
  },
  {
   "cell_type": "code",
   "execution_count": null,
   "metadata": {
    "id": "qg4Gwyw2bZX8"
   },
   "outputs": [],
   "source": [
    "oracle = HollywoodOracle(\"small_dataset_utf8.txt\")"
   ]
  },
  {
   "cell_type": "code",
   "execution_count": 132,
   "metadata": {
    "colab": {
     "base_uri": "https://localhost:8080/",
     "height": 582
    },
    "id": "9UbQoaDmFXpR",
    "outputId": "c795074a-32c5-4958-fd4f-f1bb1dfd0c8e"
   },
   "outputs": [
    {
     "name": "stdout",
     "output_type": "stream",
     "text": [
      "Data loaded successfully.\n"
     ]
    },
    {
     "data": {
      "image/png": "[encoded data removed]",
      "text/plain": [
       "<Figure size 800x600 with 1 Axes>"
      ]
     },
     "metadata": {},
     "output_type": "display_data"
    }
   ],
   "source": [
    "import os\n",
    "import random\n",
    "import matplotlib.pyplot as plt\n",
    "\n",
    "def test_six_degrees_of_separation(num_random_actors, output_file):\n",
    "\n",
    "    average_X_values = []\n",
    "    if os.path.exists(output_file) and os.path.getsize(output_file) > 0:\n",
    "        # Load previously saved results\n",
    "        with open(output_file, 'r') as file:\n",
    "            average_X_values = [float(line.strip()) for line in file]\n",
    "\n",
    "        print(\"Data loaded successfully.\")\n",
    "    else:\n",
    "        print(\"No valid data found, generating new random actors.\")\n",
    "\n",
    "\n",
    "    # Randomly select actors\n",
    "    selected_actors = random.sample(list(oracle.all_actors()), num_random_actors)\n",
    "\n",
    "    # Calculate the average number of X for each selected actor\n",
    "    for actor in selected_actors:\n",
    "\n",
    "        oracle.set_center_of_universe(actor.vertex_id())\n",
    "        avg_X = oracle.average_number_of_X()\n",
    "        average_X_values.append(avg_X)\n",
    "        print(actor, avg_X)\n",
    "\n",
    "    # Write results to a file\n",
    "    with open(output_file, 'w') as file:\n",
    "        for avg_X in average_X_values:\n",
    "            file.write(str(avg_X) + '\\n')\n",
    "\n",
    "    # Plotting the graph\n",
    "    plt.figure(figsize=(8, 6))\n",
    "    plt.hist(average_X_values, bins=30, color='blue', edgecolor='black')\n",
    "    plt.xlabel('Número Médio de X')\n",
    "    plt.ylabel('Frequência')\n",
    "    plt.title('Distribuição do Número Médio de X para Atores Selecionados Aleatoriamente')\n",
    "    plt.grid(True)\n",
    "    plt.show()\n",
    "\n",
    "#foram testados 1000 valores que agora estão guardados em file.txt\n",
    "test_six_degrees_of_separation(0, \"file.txt\")"
   ]
  }
 ],
 "metadata": {
  "colab": {
   "provenance": []
  },
  "kernelspec": {
   "display_name": "Python 3 (ipykernel)",
   "language": "python",
   "name": "python3"
  },
  "language_info": {
   "codemirror_mode": {
    "name": "ipython",
    "version": 3
   },
   "file_extension": ".py",
   "mimetype": "text/x-python",
   "name": "python",
   "nbconvert_exporter": "python",
   "pygments_lexer": "ipython3",
   "version": "3.11.5"
  }
 },
 "nbformat": 4,
 "nbformat_minor": 1
}
